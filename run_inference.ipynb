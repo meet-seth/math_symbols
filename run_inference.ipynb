{
 "cells": [
  {
   "cell_type": "code",
   "execution_count": 1,
   "id": "53993215",
   "metadata": {},
   "outputs": [],
   "source": [
    "from Inference import Infer"
   ]
  },
  {
   "cell_type": "code",
   "execution_count": 2,
   "id": "dcbaa0cd",
   "metadata": {},
   "outputs": [],
   "source": [
    "# Run this cell only once as this loads the model.\n",
    "# Loading a model is a very time consuming task and hence it is \n",
    "# done only once. You can predict any number of images after the model\n",
    "# has been loaded as shown in the next cells.\n",
    "\n",
    "model_dir = './saved_model' # Define the model directory\n",
    "inf = Infer(model_dir)"
   ]
  },
  {
   "cell_type": "code",
   "execution_count": 8,
   "id": "08b545e7",
   "metadata": {},
   "outputs": [],
   "source": [
    "# High score means only the prediction with score*100 % accuracy will\n",
    "# be shown. If the predictions are not being shown then try lowering the \n",
    "# score to show less accurate predictions.\n",
    "score = 0.9"
   ]
  },
  {
   "cell_type": "code",
   "execution_count": 5,
   "id": "9c0ae92c",
   "metadata": {},
   "outputs": [],
   "source": [
    "# File 1\n",
    "img_file = './file_1.jpeg' # Path to image file\n",
    "inf.predict(file=img_file,score=score) # It uses cv2.waitkey function so for smooth functioning use 'q' key to exit\n",
    "                              # the image screen. Using 'x' button to close the screen will keep the program in a loop."
   ]
  },
  {
   "cell_type": "code",
   "execution_count": 9,
   "id": "2022dbaf",
   "metadata": {},
   "outputs": [],
   "source": [
    "# File 2\n",
    "img_file = './file_2.jpeg' # Path to image file\n",
    "inf.predict(img_file,score)"
   ]
  },
  {
   "cell_type": "code",
   "execution_count": 11,
   "id": "4abd42ad",
   "metadata": {},
   "outputs": [],
   "source": [
    "# File 3\n",
    "img_file = './file_3.jpeg' # Path to image file\n",
    "inf.predict(img_file,score)"
   ]
  },
  {
   "cell_type": "code",
   "execution_count": null,
   "id": "ec22c069",
   "metadata": {},
   "outputs": [],
   "source": [
    "# File 4\n",
    "img_file = '' # Path to image file\n",
    "inf.predict(img_file,score)"
   ]
  }
 ],
 "metadata": {
  "kernelspec": {
   "display_name": "Python 3",
   "language": "python",
   "name": "python3"
  },
  "language_info": {
   "codemirror_mode": {
    "name": "ipython",
    "version": 3
   },
   "file_extension": ".py",
   "mimetype": "text/x-python",
   "name": "python",
   "nbconvert_exporter": "python",
   "pygments_lexer": "ipython3",
   "version": "3.8.10"
  }
 },
 "nbformat": 4,
 "nbformat_minor": 5
}
